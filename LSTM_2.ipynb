{
 "cells": [
  {
   "cell_type": "code",
   "execution_count": 1,
   "metadata": {},
   "outputs": [
    {
     "name": "stderr",
     "output_type": "stream",
     "text": [
      "2023-12-21 16:21:57.751228: I tensorflow/core/util/port.cc:110] oneDNN custom operations are on. You may see slightly different numerical results due to floating-point round-off errors from different computation orders. To turn them off, set the environment variable `TF_ENABLE_ONEDNN_OPTS=0`.\n",
      "2023-12-21 16:21:57.752706: I tensorflow/tsl/cuda/cudart_stub.cc:28] Could not find cuda drivers on your machine, GPU will not be used.\n",
      "2023-12-21 16:21:57.794314: I tensorflow/tsl/cuda/cudart_stub.cc:28] Could not find cuda drivers on your machine, GPU will not be used.\n",
      "2023-12-21 16:21:57.795233: I tensorflow/core/platform/cpu_feature_guard.cc:182] This TensorFlow binary is optimized to use available CPU instructions in performance-critical operations.\n",
      "To enable the following instructions: AVX2 AVX512F AVX512_VNNI FMA, in other operations, rebuild TensorFlow with the appropriate compiler flags.\n",
      "2023-12-21 16:21:58.384989: W tensorflow/compiler/tf2tensorrt/utils/py_utils.cc:38] TF-TRT Warning: Could not find TensorRT\n",
      "2023-12-21 16:22:00.810302: I tensorflow/compiler/xla/stream_executor/cuda/cuda_gpu_executor.cc:996] successful NUMA node read from SysFS had negative value (-1), but there must be at least one NUMA node, so returning NUMA node zero. See more at https://github.com/torvalds/linux/blob/v6.0/Documentation/ABI/testing/sysfs-bus-pci#L344-L355\n",
      "2023-12-21 16:22:00.810662: W tensorflow/core/common_runtime/gpu/gpu_device.cc:1956] Cannot dlopen some GPU libraries. Please make sure the missing libraries mentioned above are installed properly if you would like to use GPU. Follow the guide at https://www.tensorflow.org/install/gpu for how to download and setup the required libraries for your platform.\n",
      "Skipping registering GPU devices...\n"
     ]
    },
    {
     "name": "stdout",
     "output_type": "stream",
     "text": [
      "Epoch 1/10\n"
     ]
    },
    {
     "name": "stderr",
     "output_type": "stream",
     "text": [
      "2023-12-21 16:22:01.119100: I tensorflow/core/common_runtime/executor.cc:1197] [/device:CPU:0] (DEBUG INFO) Executor start aborting (this does not indicate an error and you can ignore this message): INVALID_ARGUMENT: You must feed a value for placeholder tensor 'gradients/split_2_grad/concat/split_2/split_dim' with dtype int32\n",
      "\t [[{{node gradients/split_2_grad/concat/split_2/split_dim}}]]\n",
      "2023-12-21 16:22:01.120294: I tensorflow/core/common_runtime/executor.cc:1197] [/device:CPU:0] (DEBUG INFO) Executor start aborting (this does not indicate an error and you can ignore this message): INVALID_ARGUMENT: You must feed a value for placeholder tensor 'gradients/split_grad/concat/split/split_dim' with dtype int32\n",
      "\t [[{{node gradients/split_grad/concat/split/split_dim}}]]\n",
      "2023-12-21 16:22:01.121135: I tensorflow/core/common_runtime/executor.cc:1197] [/device:CPU:0] (DEBUG INFO) Executor start aborting (this does not indicate an error and you can ignore this message): INVALID_ARGUMENT: You must feed a value for placeholder tensor 'gradients/split_1_grad/concat/split_1/split_dim' with dtype int32\n",
      "\t [[{{node gradients/split_1_grad/concat/split_1/split_dim}}]]\n",
      "2023-12-21 16:22:01.374661: I tensorflow/core/common_runtime/executor.cc:1197] [/device:CPU:0] (DEBUG INFO) Executor start aborting (this does not indicate an error and you can ignore this message): INVALID_ARGUMENT: You must feed a value for placeholder tensor 'gradients/split_2_grad/concat/split_2/split_dim' with dtype int32\n",
      "\t [[{{node gradients/split_2_grad/concat/split_2/split_dim}}]]\n",
      "2023-12-21 16:22:01.376076: I tensorflow/core/common_runtime/executor.cc:1197] [/device:CPU:0] (DEBUG INFO) Executor start aborting (this does not indicate an error and you can ignore this message): INVALID_ARGUMENT: You must feed a value for placeholder tensor 'gradients/split_grad/concat/split/split_dim' with dtype int32\n",
      "\t [[{{node gradients/split_grad/concat/split/split_dim}}]]\n",
      "2023-12-21 16:22:01.376900: I tensorflow/core/common_runtime/executor.cc:1197] [/device:CPU:0] (DEBUG INFO) Executor start aborting (this does not indicate an error and you can ignore this message): INVALID_ARGUMENT: You must feed a value for placeholder tensor 'gradients/split_1_grad/concat/split_1/split_dim' with dtype int32\n",
      "\t [[{{node gradients/split_1_grad/concat/split_1/split_dim}}]]\n",
      "2023-12-21 16:22:01.703958: I tensorflow/core/common_runtime/executor.cc:1197] [/device:CPU:0] (DEBUG INFO) Executor start aborting (this does not indicate an error and you can ignore this message): INVALID_ARGUMENT: You must feed a value for placeholder tensor 'gradients/split_2_grad/concat/split_2/split_dim' with dtype int32\n",
      "\t [[{{node gradients/split_2_grad/concat/split_2/split_dim}}]]\n",
      "2023-12-21 16:22:01.705025: I tensorflow/core/common_runtime/executor.cc:1197] [/device:CPU:0] (DEBUG INFO) Executor start aborting (this does not indicate an error and you can ignore this message): INVALID_ARGUMENT: You must feed a value for placeholder tensor 'gradients/split_grad/concat/split/split_dim' with dtype int32\n",
      "\t [[{{node gradients/split_grad/concat/split/split_dim}}]]\n",
      "2023-12-21 16:22:01.705888: I tensorflow/core/common_runtime/executor.cc:1197] [/device:CPU:0] (DEBUG INFO) Executor start aborting (this does not indicate an error and you can ignore this message): INVALID_ARGUMENT: You must feed a value for placeholder tensor 'gradients/split_1_grad/concat/split_1/split_dim' with dtype int32\n",
      "\t [[{{node gradients/split_1_grad/concat/split_1/split_dim}}]]\n"
     ]
    },
    {
     "name": "stdout",
     "output_type": "stream",
     "text": [
      "2600/2612 [============================>.] - ETA: 0s - loss: 0.6808 - accuracy: 0.7269"
     ]
    },
    {
     "name": "stderr",
     "output_type": "stream",
     "text": [
      "2023-12-21 16:22:07.694554: I tensorflow/core/common_runtime/executor.cc:1197] [/device:CPU:0] (DEBUG INFO) Executor start aborting (this does not indicate an error and you can ignore this message): INVALID_ARGUMENT: You must feed a value for placeholder tensor 'gradients/split_2_grad/concat/split_2/split_dim' with dtype int32\n",
      "\t [[{{node gradients/split_2_grad/concat/split_2/split_dim}}]]\n",
      "2023-12-21 16:22:07.695412: I tensorflow/core/common_runtime/executor.cc:1197] [/device:CPU:0] (DEBUG INFO) Executor start aborting (this does not indicate an error and you can ignore this message): INVALID_ARGUMENT: You must feed a value for placeholder tensor 'gradients/split_grad/concat/split/split_dim' with dtype int32\n",
      "\t [[{{node gradients/split_grad/concat/split/split_dim}}]]\n",
      "2023-12-21 16:22:07.695997: I tensorflow/core/common_runtime/executor.cc:1197] [/device:CPU:0] (DEBUG INFO) Executor start aborting (this does not indicate an error and you can ignore this message): INVALID_ARGUMENT: You must feed a value for placeholder tensor 'gradients/split_1_grad/concat/split_1/split_dim' with dtype int32\n",
      "\t [[{{node gradients/split_1_grad/concat/split_1/split_dim}}]]\n"
     ]
    },
    {
     "name": "stdout",
     "output_type": "stream",
     "text": [
      "2612/2612 [==============================] - 7s 2ms/step - loss: 0.6800 - accuracy: 0.7273 - val_loss: 0.5704 - val_accuracy: 0.7969\n",
      "Epoch 2/10\n",
      "2612/2612 [==============================] - 8s 3ms/step - loss: 0.5487 - accuracy: 0.7959 - val_loss: 0.5032 - val_accuracy: 0.8132\n",
      "Epoch 3/10\n",
      "2612/2612 [==============================] - 8s 3ms/step - loss: 0.5019 - accuracy: 0.8187 - val_loss: 0.4727 - val_accuracy: 0.8360\n",
      "Epoch 4/10\n",
      "2612/2612 [==============================] - 6s 2ms/step - loss: 0.4726 - accuracy: 0.8281 - val_loss: 0.4529 - val_accuracy: 0.8398\n",
      "Epoch 5/10\n",
      "2612/2612 [==============================] - 6s 2ms/step - loss: 0.4354 - accuracy: 0.8359 - val_loss: 0.4000 - val_accuracy: 0.8431\n",
      "Epoch 6/10\n",
      "2612/2612 [==============================] - 6s 2ms/step - loss: 0.4138 - accuracy: 0.8443 - val_loss: 0.3963 - val_accuracy: 0.8484\n",
      "Epoch 7/10\n",
      "2612/2612 [==============================] - 6s 2ms/step - loss: 0.4008 - accuracy: 0.8510 - val_loss: 0.3807 - val_accuracy: 0.8690\n",
      "Epoch 8/10\n",
      "2612/2612 [==============================] - 6s 2ms/step - loss: 0.3876 - accuracy: 0.8553 - val_loss: 0.3535 - val_accuracy: 0.8812\n",
      "Epoch 9/10\n",
      "2612/2612 [==============================] - 6s 2ms/step - loss: 0.3799 - accuracy: 0.8575 - val_loss: 0.3707 - val_accuracy: 0.8576\n",
      "Epoch 10/10\n",
      "2612/2612 [==============================] - 6s 2ms/step - loss: 0.3689 - accuracy: 0.8637 - val_loss: 0.3583 - val_accuracy: 0.8597\n",
      "109/653 [====>.........................] - ETA: 0s"
     ]
    },
    {
     "name": "stderr",
     "output_type": "stream",
     "text": [
      "2023-12-21 16:23:07.144159: I tensorflow/core/common_runtime/executor.cc:1197] [/device:CPU:0] (DEBUG INFO) Executor start aborting (this does not indicate an error and you can ignore this message): INVALID_ARGUMENT: You must feed a value for placeholder tensor 'gradients/split_2_grad/concat/split_2/split_dim' with dtype int32\n",
      "\t [[{{node gradients/split_2_grad/concat/split_2/split_dim}}]]\n",
      "2023-12-21 16:23:07.144853: I tensorflow/core/common_runtime/executor.cc:1197] [/device:CPU:0] (DEBUG INFO) Executor start aborting (this does not indicate an error and you can ignore this message): INVALID_ARGUMENT: You must feed a value for placeholder tensor 'gradients/split_grad/concat/split/split_dim' with dtype int32\n",
      "\t [[{{node gradients/split_grad/concat/split/split_dim}}]]\n",
      "2023-12-21 16:23:07.145676: I tensorflow/core/common_runtime/executor.cc:1197] [/device:CPU:0] (DEBUG INFO) Executor start aborting (this does not indicate an error and you can ignore this message): INVALID_ARGUMENT: You must feed a value for placeholder tensor 'gradients/split_1_grad/concat/split_1/split_dim' with dtype int32\n",
      "\t [[{{node gradients/split_1_grad/concat/split_1/split_dim}}]]\n"
     ]
    },
    {
     "name": "stdout",
     "output_type": "stream",
     "text": [
      "653/653 [==============================] - 1s 952us/step\n",
      "                                              Input Data  True Label  \\\n",
      "0      [832.3600464, 842.2299194, -546.8758545, 835.9...           2   \n",
      "1      [840.5849609, 850.454834, -722.6574097, 667.96...           2   \n",
      "2      [840.5849609, 840.5849609, -222.656601, 941.40...           1   \n",
      "3      [852.0997925, 838.9400024, -136.7189636, 1003....           0   \n",
      "4      [850.454834, 840.5849609, -601.5634155, 816.40...           0   \n",
      "...                                                  ...         ...   \n",
      "20891  [842.2299194, 837.2949829, -363.2818298, 949.2...           2   \n",
      "20892  [850.454834, 858.6797485, -167.9690094, 976.56...           0   \n",
      "20893  [848.8098755, 899.8042603, -347.6567993, 937.5...           0   \n",
      "20894  [837.2949829, 829.0700684, -152.3439941, 1000....           0   \n",
      "20895  [829.0700684, 817.5552368, -562.5008545, 816.4...           0   \n",
      "\n",
      "       Predicted Label  \n",
      "0                    0  \n",
      "1                    2  \n",
      "2                    1  \n",
      "3                    0  \n",
      "4                    0  \n",
      "...                ...  \n",
      "20891                2  \n",
      "20892                0  \n",
      "20893                0  \n",
      "20894                0  \n",
      "20895                0  \n",
      "\n",
      "[20896 rows x 3 columns]\n"
     ]
    }
   ],
   "source": [
    "import numpy as np\n",
    "import pandas as pd\n",
    "import tensorflow as tf\n",
    "from sklearn.model_selection import train_test_split\n",
    "from sklearn.preprocessing import LabelEncoder\n",
    "from sklearn.metrics import confusion_matrix\n",
    "import seaborn as sns\n",
    "import matplotlib.pyplot as plt\n",
    "\n",
    "# Define a function to load data from multiple files\n",
    "def load_activity_data(activity, file_prefix, num_files):\n",
    "    data_list = []\n",
    "    for i in range(1, num_files + 1):\n",
    "        file_path = f\"Data/{activity}/{file_prefix} {i}cleaned.csv\"\n",
    "        data = np.genfromtxt(file_path, delimiter=',')\n",
    "        data_list.append(data)\n",
    "    return np.concatenate(data_list, axis=0)\n",
    "\n",
    "# Load data for each activity\n",
    "reading_data = load_activity_data(\"Reading\", \"r\", 6)\n",
    "speaking_data = load_activity_data(\"Speaking\", \"s\", 4)\n",
    "watching_data = load_activity_data(\"Watching\", \"w\", 6)\n",
    "\n",
    "# Create labels for each activity\n",
    "reading_labels = np.full((reading_data.shape[0],), fill_value=0)  # 0 represents reading\n",
    "speaking_labels = np.full((speaking_data.shape[0],), fill_value=1)  # 1 represents speaking\n",
    "watching_labels = np.full((watching_data.shape[0],), fill_value=2)  # 2 represents watching\n",
    "\n",
    "# Concatenate data and labels\n",
    "X = np.concatenate((reading_data, speaking_data, watching_data), axis=0)\n",
    "y = np.concatenate((reading_labels, speaking_labels, watching_labels), axis=0)\n",
    "\n",
    "# Encode labels to numerical values\n",
    "label_encoder = LabelEncoder()\n",
    "y_encoded = label_encoder.fit_transform(y)\n",
    "\n",
    "# Split the data into training and testing sets\n",
    "X_train, X_test, y_train, y_test = train_test_split(X, y_encoded, test_size=0.2, random_state=42)\n",
    "\n",
    "# Reshape data for LSTM (assuming data is 1D, modify as needed if your data has more dimensions)\n",
    "X_train_reshaped = X_train.reshape(X_train.shape[0], X_train.shape[1], 1)\n",
    "X_test_reshaped = X_test.reshape(X_test.shape[0], X_test.shape[1], 1)\n",
    "\n",
    "# Build an LSTM model\n",
    "model = tf.keras.Sequential([\n",
    "    tf.keras.layers.LSTM(64, input_shape=(X_train_reshaped.shape[1], 1)),\n",
    "    tf.keras.layers.Dense(64, activation='relu'),\n",
    "    tf.keras.layers.Dense(3, activation='softmax')  # 3 output neurons for 3 classes (reading, speaking, watching)\n",
    "])\n",
    "\n",
    "# Compile the model\n",
    "model.compile(optimizer='adam', loss='sparse_categorical_crossentropy', metrics=['accuracy'])\n",
    "\n",
    "# Train the model\n",
    "history = model.fit(X_train_reshaped, y_train, epochs=10, batch_size=32, validation_data=(X_test_reshaped, y_test))\n",
    "\n",
    "# Make predictions on the test set\n",
    "predictions = model.predict(X_test_reshaped)\n",
    "\n",
    "# Decode labels if necessary\n",
    "decoded_true_labels = label_encoder.inverse_transform(y_test)\n",
    "decoded_predicted_labels = label_encoder.inverse_transform(np.argmax(predictions, axis=1))\n",
    "\n",
    "# Create a Pandas DataFrame with input data, true labels, and predicted labels\n",
    "df = pd.DataFrame({'Input Data': list(X_test), 'True Label': decoded_true_labels, 'Predicted Label': decoded_predicted_labels})\n",
    "\n",
    "# Display the DataFrame\n",
    "print(df)\n"
   ]
  }
 ],
 "metadata": {
  "kernelspec": {
   "display_name": "Python 3",
   "language": "python",
   "name": "python3"
  },
  "language_info": {
   "codemirror_mode": {
    "name": "ipython",
    "version": 3
   },
   "file_extension": ".py",
   "mimetype": "text/x-python",
   "name": "python",
   "nbconvert_exporter": "python",
   "pygments_lexer": "ipython3",
   "version": "3.10.12"
  }
 },
 "nbformat": 4,
 "nbformat_minor": 2
}
