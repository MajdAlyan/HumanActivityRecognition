{
 "cells": [
  {
   "cell_type": "code",
   "execution_count": 1,
   "metadata": {},
   "outputs": [],
   "source": [
    "from DeepEEG import input_preparation\n",
    "from DeepEEG.input_preparation import get_filepaths\n",
    "from DeepEEG.input_preparation import get_labels\n",
    "from DeepEEG.input_preparation import get_data\n",
    "import pandas as pd\n",
    "import numpy as np \n",
    "import matplotlib.pyplot as plt\n",
    "from sklearn.preprocessing import OneHotEncoder\n"
   ]
  },
  {
   "cell_type": "code",
   "execution_count": 2,
   "metadata": {},
   "outputs": [],
   "source": [
    "root_folder = \"Data\"\n",
    "training_filepaths = get_filepaths(root_folder)\n",
    "labels = get_labels(root_folder)\n",
    "#training_filepaths, labels\n"
   ]
  },
  {
   "cell_type": "code",
   "execution_count": 3,
   "metadata": {},
   "outputs": [],
   "source": [
    "def get_list(filepaths):\n",
    "    list = []\n",
    "    for i in filepaths.keys():\n",
    "        list.append(i)\n",
    "    return(list)\n",
    "\n",
    "\n",
    "def get_list_with_index(list_data_dict):\n",
    "    for i, data_dict in enumerate(list_data_dict):\n",
    "        print(f\"Index: {i}, Dictionary: {data_dict}\")\n"
   ]
  },
  {
   "cell_type": "code",
   "execution_count": 4,
   "metadata": {},
   "outputs": [],
   "source": [
    "list_data_dict = get_list(training_filepaths)\n",
    "\n",
    "#list_with_index = get_list_with_index(list_data_dict)\n"
   ]
  },
  {
   "cell_type": "code",
   "execution_count": 5,
   "metadata": {},
   "outputs": [],
   "source": [
    "datasignals_s_1, one_hot_s_1, label_s_1 = get_data(\n",
    "list_data_dict[0],\n",
    "labels, training_filepaths)\n",
    "# Assuming user_number is the user number \n",
    "# you want to add to datasignals_s_1\n",
    "user_numbers = [1,2,3,4,5,6]\n",
    "\n",
    "\n",
    "\n",
    "datasignals_s_2, one_hot_s_2, label_s_2 = get_data(\n",
    "list_data_dict[3],labels, training_filepaths)\n",
    "\n",
    "\n",
    "datasignals_s_3, one_hot_s_3, label_s_3 = get_data(\n",
    "list_data_dict[1],labels, training_filepaths)\n",
    "datasignals_s_4, one_hot_s_4, label_s_4 = get_data(\n",
    "list_data_dict[2],labels, training_filepaths)\n",
    "datasignals_r_1, one_hot_r_1, label_r_1 = get_data(\n",
    "list_data_dict[8],\n",
    "labels, training_filepaths)\n",
    "\n",
    "datasignals_r_2, one_hot_r_2, label_r_2 = get_data(\n",
    "list_data_dict[9],labels, training_filepaths)\n",
    "datasignals_r_3, one_hot_r_3, label_r_3 = get_data(\n",
    "list_data_dict[5],labels, training_filepaths)\n",
    "datasignals_r_4, one_hot_r_4, label_r_4 = get_data(\n",
    "list_data_dict[6],labels, training_filepaths)\n",
    "datasignals_r_5, one_hot_r_5, label_r_5 = get_data(\n",
    "list_data_dict[4],labels, training_filepaths)\n",
    "datasignals_r_6, one_hot_r_6, label_r_6 = get_data(\n",
    "list_data_dict[7],labels, training_filepaths)\n",
    "\n",
    "\n",
    "datasignals_w_1, one_hot_w_1, label_w_1 = get_data(\n",
    "list_data_dict[10],labels, training_filepaths)\n",
    "datasignals_w_2, one_hot_w_2, label_w_2 = get_data(\n",
    "list_data_dict[12],labels, training_filepaths)\n",
    "\n",
    "datasignals_w_3, one_hot_w_3, label_w_3 = get_data(\n",
    "list_data_dict[14],labels, training_filepaths)\n",
    "\n",
    "datasignals_w_4, one_hot_w_4, label_w_4 = get_data(\n",
    "list_data_dict[13],labels, training_filepaths)\n",
    "\n",
    "datasignals_w_5, one_hot_w_5, label_w_5 = get_data(\n",
    "list_data_dict[11],labels, training_filepaths)\n",
    "\n",
    "datasignals_w_6, one_hot_w_6, label_w_6 = get_data(\n",
    "list_data_dict[15],labels, training_filepaths)\n",
    "\n"
   ]
  },
  {
   "cell_type": "code",
   "execution_count": 6,
   "metadata": {},
   "outputs": [],
   "source": [
    "def add_column_to_dataframe(dataframe, column_name, values):\n",
    "    \"\"\"\n",
    "    Add a new column to a DataFrame.\n",
    "\n",
    "    Args:\n",
    "    - dataframe: The pandas DataFrame to which the \n",
    "    column will be added.\n",
    "    - column_name: Name of the new column.\n",
    "    - values: Values to be assigned to the new column.\n",
    "\n",
    "    Returns:\n",
    "    - Updated DataFrame with the new column.\n",
    "    \"\"\"\n",
    "    dataframe = dataframe.assign(**{column_name: values})\n",
    "    return dataframe\n",
    "\n",
    "\n",
    "datasignals_s_1 = add_column_to_dataframe(datasignals_s_1, \n",
    "'User_Number', user_numbers[0])\n",
    "datasignals_s_2 = add_column_to_dataframe(datasignals_s_2, \n",
    " 'User_Number', user_numbers[1])\n",
    "datasignals_s_3 = add_column_to_dataframe(datasignals_s_3, \n",
    " 'User_Number', user_numbers[2])\n",
    "datasignals_s_4 = add_column_to_dataframe(datasignals_s_4, \n",
    "'User_Number', user_numbers[3])\n",
    "datasignals_r_1 = add_column_to_dataframe(datasignals_r_1, \n",
    "'User_Number',user_numbers[0])\n",
    "datasignals_r_2 = add_column_to_dataframe(datasignals_r_2, \n",
    "'User_Number', user_numbers[1])\n",
    "datasignals_r_3 = add_column_to_dataframe(datasignals_r_3, \n",
    "'User_Number', user_numbers[2])\n",
    "datasignals_r_4 = add_column_to_dataframe(datasignals_r_4, \n",
    "'User_Number', user_numbers[3])\n",
    "datasignals_r_5 = add_column_to_dataframe(datasignals_r_5, \n",
    "'User_Number', user_numbers[4])\n",
    "datasignals_r_6 = add_column_to_dataframe(datasignals_r_6,\n",
    "'User_Number', user_numbers[5])\n",
    "datasignals_w_1 = add_column_to_dataframe(datasignals_w_1, \n",
    " 'User_Number', user_numbers[0])\n",
    "datasignals_w_2 = add_column_to_dataframe(datasignals_w_2,\n",
    "'User_Number', user_numbers[1])\n",
    "datasignals_w_3 = add_column_to_dataframe(datasignals_w_3,\n",
    " 'User_Number', user_numbers[2])\n",
    "datasignals_w_4 = add_column_to_dataframe(datasignals_w_4, \n",
    "'User_Number', user_numbers[3])\n",
    "datasignals_w_5 = add_column_to_dataframe(datasignals_w_5,\n",
    "'User_Number', user_numbers[4])\n",
    "datasignals_w_6 = add_column_to_dataframe(datasignals_w_6,\n",
    "'User_Number', user_numbers[5])\n"
   ]
  },
  {
   "cell_type": "code",
   "execution_count": null,
   "metadata": {},
   "outputs": [],
   "source": []
  },
  {
   "cell_type": "code",
   "execution_count": 7,
   "metadata": {},
   "outputs": [],
   "source": [
    "concatenated_data_s = pd.concat([datasignals_s_1,\n",
    "datasignals_s_2,datasignals_s_3,datasignals_s_4], axis=0, \n",
    "          ignore_index=True)\n",
    "\n",
    "concatenated_data_r = pd.concat([ datasignals_r_1,\n",
    "datasignals_r_2, datasignals_r_3,datasignals_r_4,\n",
    "datasignals_r_5, datasignals_r_6], axis=0,\n",
    "ignore_index=True)\n",
    "\n",
    "concatenated_data_w = pd.concat([\n",
    "    datasignals_w_1, datasignals_w_2, datasignals_w_3,\n",
    "    datasignals_w_4, datasignals_w_5, datasignals_w_6\n",
    "], axis=0,ignore_index=True)"
   ]
  },
  {
   "cell_type": "code",
   "execution_count": 8,
   "metadata": {},
   "outputs": [],
   "source": [
    "all_Data_connected = pd.concat([\n",
    "concatenated_data_s, concatenated_data_r, concatenated_data_w\n",
    "],axis=0,ignore_index=True)"
   ]
  },
  {
   "cell_type": "code",
   "execution_count": 9,
   "metadata": {},
   "outputs": [
    {
     "data": {
      "text/plain": [
       "(104480, 6)"
      ]
     },
     "execution_count": 9,
     "metadata": {},
     "output_type": "execute_result"
    }
   ],
   "source": [
    "all_Data_connected.shape"
   ]
  },
  {
   "cell_type": "code",
   "execution_count": 10,
   "metadata": {},
   "outputs": [],
   "source": [
    "concatenated_data_s_2 = pd.concat([\n",
    "datasignals_s_2,datasignals_s_3,datasignals_s_4], axis=0, \n",
    "          ignore_index=True)\n",
    "\n",
    "concatenated_data_r_2 = pd.concat([ \n",
    "datasignals_r_2, datasignals_r_3,datasignals_r_4,\n",
    "datasignals_r_5, datasignals_r_6], axis=0,\n",
    "ignore_index=True)\n",
    "\n",
    "concatenated_data_w_2 = pd.concat([\n",
    "    datasignals_w_2, datasignals_w_3,\n",
    "    datasignals_w_4, datasignals_w_5, datasignals_w_6\n",
    "], axis=0,ignore_index=True)"
   ]
  },
  {
   "cell_type": "code",
   "execution_count": 11,
   "metadata": {},
   "outputs": [],
   "source": [
    "all_Data_connected_2 = pd.concat([\n",
    "concatenated_data_s_2, concatenated_data_r_2, \n",
    "concatenated_data_w_2\n",
    "],axis=0,ignore_index=True)"
   ]
  },
  {
   "cell_type": "code",
   "execution_count": 12,
   "metadata": {},
   "outputs": [],
   "source": [
    "all_Data_connected_3 = pd.concat([datasignals_s_1, \n",
    "    datasignals_r_1, datasignals_w_1], axis=0, \n",
    "    ignore_index=True)"
   ]
  },
  {
   "cell_type": "code",
   "execution_count": 13,
   "metadata": {},
   "outputs": [],
   "source": [
    "def load_activity_data(activity, file_prefix, \n",
    "                       start_file, end_file):\n",
    "    data_list = []\n",
    "    for i in range(start_file, end_file + 1):\n",
    "        file_path = f\"Data/{activity}/{file_prefix} {i}cleaned.csv\"\n",
    "        data = np.genfromtxt(file_path, delimiter=',')\n",
    "        data_list.append(data)\n",
    "    return np.concatenate(data_list, axis=0)\n",
    "\n"
   ]
  },
  {
   "cell_type": "code",
   "execution_count": 14,
   "metadata": {},
   "outputs": [],
   "source": [
    "# Load data for each activity\n",
    "speaking_data = load_activity_data(\"Speaking\", \"s\",1, 4)\n",
    "reading_data = load_activity_data(\"Reading\", \"r\",1, 6)\n",
    "watching_data = load_activity_data(\"Watching\", \"w\",1, 6)\n",
    "\n",
    "# Create labels for each activity\n",
    "\n",
    "# 0 represents speaking speaking_labels\n",
    "speaking_labels = np.full((speaking_data.shape[0],), fill_value=0) \n",
    "# 1 represents reading  \n",
    "reading_labels = np.full((reading_data.shape[0],), fill_value=1)\n",
    "# 2 represents watching\n",
    "watching_labels = np.full((watching_data.shape[0],), fill_value=2)  \n",
    "\n",
    "# Concatenate data and labels reading_data speaking_labels\n",
    "X_array = np.concatenate((speaking_data, \n",
    "                    reading_data, watching_data), axis=0)\n",
    "y_array = np.concatenate((speaking_labels, \n",
    "                    reading_labels, watching_labels), axis=0)"
   ]
  },
  {
   "cell_type": "code",
   "execution_count": 15,
   "metadata": {},
   "outputs": [],
   "source": [
    "# Load data for each activity\n",
    "reading_data_2 = load_activity_data(\"Reading\", \"r\",2, 6)\n",
    "speaking_data_2 = load_activity_data(\"Speaking\", \"s\",2, 4)\n",
    "watching_data_2 = load_activity_data(\"Watching\", \"w\",2, 6)\n",
    "\n",
    "# Create labels for each activity\n",
    "\n",
    "# 0 represents speaking speaking_labels\n",
    "speaking_labels_2 = np.full((speaking_data_2.shape[0],),\n",
    "                             fill_value=0) \n",
    "# 1 represents reading  \n",
    "reading_labels_2 = np.full((reading_data_2.shape[0],), \n",
    "                           fill_value=1)\n",
    "# 2 represents watching\n",
    "watching_labels_2 = np.full((watching_data_2.shape[0],), \n",
    "                            fill_value=2)  \n",
    "\n",
    "# Concatenate data and labels reading_data_2\n",
    "X_array_2 = np.concatenate((speaking_data_2, \n",
    "                    reading_data_2, watching_data_2), axis=0)\n",
    "y_array_2 = np.concatenate((speaking_labels_2, \n",
    "                    reading_labels_2, watching_labels_2), axis=0)"
   ]
  },
  {
   "cell_type": "code",
   "execution_count": 16,
   "metadata": {},
   "outputs": [],
   "source": [
    "speaking_test = load_activity_data(\"Speaking\",\"s\",1,1)\n",
    "reading_test = load_activity_data(\"Reading\",\"r\",1,1)\n",
    "watching_test = load_activity_data(\"Watching\",\"w\",1,1)\n",
    "\n",
    "# 0 represents speaking speaking_labels\n",
    "stestlabels = np.full((speaking_test.shape[0],), fill_value=0) \n",
    "# 1 represents reading  \n",
    "rtestlabels = np.full((reading_test.shape[0],), fill_value=1)\n",
    "# 2 represents watching\n",
    "wtestlabels = np.full((watching_test.shape[0],), fill_value=2)  \n",
    "\n",
    "\n",
    "y_array_3 = np.concatenate((stestlabels, rtestlabels,\n",
    "                           wtestlabels ), axis=0)"
   ]
  },
  {
   "cell_type": "code",
   "execution_count": 17,
   "metadata": {},
   "outputs": [],
   "source": [
    "label = pd.DataFrame(y_array, \n",
    "    columns=['Label'])\n",
    "label_2 = pd.DataFrame(y_array_2, \n",
    "    columns=['Label'])\n",
    "\n",
    "test_labels = pd.DataFrame(y_array_3,\n",
    "                     columns=['Label'])\n",
    "\n",
    "\n",
    "\n",
    "all_Data_connected_2 = pd.concat([all_Data_connected_2, \n",
    "                                  label_2], \n",
    "    axis=1)"
   ]
  },
  {
   "cell_type": "code",
   "execution_count": 18,
   "metadata": {},
   "outputs": [
    {
     "data": {
      "text/plain": [
       "Index(['EEG1', 'EEG2', 'Acc_X', 'Acc_Y', 'Acc_Z', 'User_Number', 'Label'], dtype='object')"
      ]
     },
     "execution_count": 18,
     "metadata": {},
     "output_type": "execute_result"
    }
   ],
   "source": [
    "all_Data_connected_2.columns"
   ]
  },
  {
   "cell_type": "code",
   "execution_count": 19,
   "metadata": {},
   "outputs": [],
   "source": [
    "all_Data_connected_2 = all_Data_connected_2.drop(['User_Number', \n",
    "        'Label','Acc_X', 'Acc_Y', 'Acc_Z'], \n",
    "                                                 axis=1)"
   ]
  },
  {
   "cell_type": "code",
   "execution_count": 20,
   "metadata": {},
   "outputs": [
    {
     "data": {
      "text/plain": [
       "Index(['EEG1', 'EEG2'], dtype='object')"
      ]
     },
     "execution_count": 20,
     "metadata": {},
     "output_type": "execute_result"
    }
   ],
   "source": [
    "all_Data_connected_2.columns"
   ]
  },
  {
   "cell_type": "code",
   "execution_count": 21,
   "metadata": {},
   "outputs": [
    {
     "data": {
      "text/plain": [
       "Index(['EEG1', 'EEG2', 'Acc_X', 'Acc_Y', 'Acc_Z', 'User_Number'], dtype='object')"
      ]
     },
     "execution_count": 21,
     "metadata": {},
     "output_type": "execute_result"
    }
   ],
   "source": [
    "all_Data_connected_3.columns"
   ]
  },
  {
   "cell_type": "code",
   "execution_count": 22,
   "metadata": {},
   "outputs": [],
   "source": [
    "all_Data_connected_3= all_Data_connected_3.drop(['User_Number',\n",
    "                 'Acc_X', 'Acc_Y', 'Acc_Z'] ,axis=1)\n",
    "\n"
   ]
  },
  {
   "cell_type": "code",
   "execution_count": 23,
   "metadata": {},
   "outputs": [
    {
     "data": {
      "text/plain": [
       "Index(['EEG1', 'EEG2'], dtype='object')"
      ]
     },
     "execution_count": 23,
     "metadata": {},
     "output_type": "execute_result"
    }
   ],
   "source": [
    "all_Data_connected_3.columns\n"
   ]
  },
  {
   "cell_type": "code",
   "execution_count": 24,
   "metadata": {},
   "outputs": [],
   "source": [
    "import numpy as np\n",
    "\n",
    "# Function for sliding window with labels using pandas DataFrames\n",
    "def sliding_window_with_labels(window_size, signal, labels):\n",
    "    segments = []\n",
    "    segment_labels = []\n",
    "    for i in range(0, len(signal) - window_size + 1, window_size):\n",
    "        segment = signal.iloc[i:i + window_size]  \n",
    "        # Assuming signal is a DataFrame\n",
    "        segment_label = labels.iloc[i + window_size - 1]  \n",
    "        # Assuming labels is a DataFrame\n",
    "        segments.append(segment.values)\n",
    "        segment_labels.append(max(segment_label)) \n",
    "         # Accessing the label value assuming it's \n",
    "         # in the first column\n",
    "    return np.array(segments), np.array(segment_labels)"
   ]
  },
  {
   "cell_type": "code",
   "execution_count": 25,
   "metadata": {},
   "outputs": [
    {
     "data": {
      "text/plain": [
       "((93537, 2), (93537, 1))"
      ]
     },
     "execution_count": 25,
     "metadata": {},
     "output_type": "execute_result"
    }
   ],
   "source": [
    "all_Data_connected_2.shape, label_2.shape"
   ]
  },
  {
   "cell_type": "code",
   "execution_count": 26,
   "metadata": {},
   "outputs": [
    {
     "data": {
      "text/plain": [
       "((467, 200, 2), (467,))"
      ]
     },
     "execution_count": 26,
     "metadata": {},
     "output_type": "execute_result"
    }
   ],
   "source": [
    "window_size = 200 # Define your window size\n",
    "\n",
    "# Apply sliding window function with labels\n",
    "X_train, y_train = sliding_window_with_labels(window_size,\n",
    " all_Data_connected_2 , label_2)\n",
    "X_train.shape, y_train.shape\n",
    "\n"
   ]
  },
  {
   "cell_type": "code",
   "execution_count": 27,
   "metadata": {},
   "outputs": [],
   "source": [
    "onehot_encoder = OneHotEncoder(sparse_output=False)\n",
    "y_train = y_train.reshape(-1, 1)\n",
    "\n",
    "y_train = onehot_encoder.fit_transform(y_train)\n"
   ]
  },
  {
   "cell_type": "code",
   "execution_count": 28,
   "metadata": {},
   "outputs": [],
   "source": [
    "#all_Data_connected_3 = pd.concat([all_Data_connected_3, \n",
    "#            test_labels], axis=1)"
   ]
  },
  {
   "cell_type": "code",
   "execution_count": 29,
   "metadata": {},
   "outputs": [
    {
     "data": {
      "text/plain": [
       "((10943, 2), Index(['EEG1', 'EEG2'], dtype='object'))"
      ]
     },
     "execution_count": 29,
     "metadata": {},
     "output_type": "execute_result"
    }
   ],
   "source": [
    "all_Data_connected_3.shape,all_Data_connected_3.columns"
   ]
  },
  {
   "cell_type": "code",
   "execution_count": 30,
   "metadata": {},
   "outputs": [],
   "source": [
    "\n",
    "X_test, y_test = sliding_window_with_labels(\n",
    "    window_size, all_Data_connected_3, test_labels\n",
    ")\n"
   ]
  },
  {
   "cell_type": "code",
   "execution_count": 31,
   "metadata": {},
   "outputs": [],
   "source": [
    "onehot_encoder = OneHotEncoder(sparse_output=False)\n",
    "y_test = y_test.reshape(-1,1)\n",
    "\n",
    "y_test= onehot_encoder.fit_transform(y_test)\n"
   ]
  },
  {
   "cell_type": "code",
   "execution_count": 32,
   "metadata": {},
   "outputs": [
    {
     "name": "stderr",
     "output_type": "stream",
     "text": [
      "2024-01-17 18:45:19.804419: I tensorflow/core/util/port.cc:113] oneDNN custom operations are on. You may see slightly different numerical results due to floating-point round-off errors from different computation orders. To turn them off, set the environment variable `TF_ENABLE_ONEDNN_OPTS=0`.\n",
      "2024-01-17 18:45:19.851477: I external/local_tsl/tsl/cuda/cudart_stub.cc:31] Could not find cuda drivers on your machine, GPU will not be used.\n",
      "2024-01-17 18:45:20.069813: E external/local_xla/xla/stream_executor/cuda/cuda_dnn.cc:9261] Unable to register cuDNN factory: Attempting to register factory for plugin cuDNN when one has already been registered\n",
      "2024-01-17 18:45:20.069875: E external/local_xla/xla/stream_executor/cuda/cuda_fft.cc:607] Unable to register cuFFT factory: Attempting to register factory for plugin cuFFT when one has already been registered\n",
      "2024-01-17 18:45:20.105588: E external/local_xla/xla/stream_executor/cuda/cuda_blas.cc:1515] Unable to register cuBLAS factory: Attempting to register factory for plugin cuBLAS when one has already been registered\n",
      "2024-01-17 18:45:20.187299: I external/local_tsl/tsl/cuda/cudart_stub.cc:31] Could not find cuda drivers on your machine, GPU will not be used.\n",
      "2024-01-17 18:45:20.188353: I tensorflow/core/platform/cpu_feature_guard.cc:182] This TensorFlow binary is optimized to use available CPU instructions in performance-critical operations.\n",
      "To enable the following instructions: AVX2 AVX512F AVX512_VNNI FMA, in other operations, rebuild TensorFlow with the appropriate compiler flags.\n",
      "2024-01-17 18:45:21.040912: W tensorflow/compiler/tf2tensorrt/utils/py_utils.cc:38] TF-TRT Warning: Could not find TensorRT\n"
     ]
    },
    {
     "name": "stdout",
     "output_type": "stream",
     "text": [
      "Epoch 1/10\n"
     ]
    },
    {
     "name": "stderr",
     "output_type": "stream",
     "text": [
      "2024-01-17 18:45:22.951291: I external/local_xla/xla/stream_executor/cuda/cuda_executor.cc:901] successful NUMA node read from SysFS had negative value (-1), but there must be at least one NUMA node, so returning NUMA node zero. See more at https://github.com/torvalds/linux/blob/v6.0/Documentation/ABI/testing/sysfs-bus-pci#L344-L355\n",
      "2024-01-17 18:45:22.956914: W tensorflow/core/common_runtime/gpu/gpu_device.cc:2256] Cannot dlopen some GPU libraries. Please make sure the missing libraries mentioned above are installed properly if you would like to use GPU. Follow the guide at https://www.tensorflow.org/install/gpu for how to download and setup the required libraries for your platform.\n",
      "Skipping registering GPU devices...\n"
     ]
    },
    {
     "name": "stdout",
     "output_type": "stream",
     "text": [
      "467/467 [==============================] - 2s 2ms/step - loss: 10.2323 - accuracy: 0.4818 - val_loss: 1.0899 - val_accuracy: 0.5370\n",
      "Epoch 2/10\n",
      "467/467 [==============================] - 1s 2ms/step - loss: 2.1272 - accuracy: 0.5310 - val_loss: 1.0817 - val_accuracy: 0.5370\n",
      "Epoch 3/10\n",
      "467/467 [==============================] - 1s 1ms/step - loss: 1.1238 - accuracy: 0.5653 - val_loss: 1.0746 - val_accuracy: 0.5370\n",
      "Epoch 4/10\n",
      "467/467 [==============================] - 1s 1ms/step - loss: 1.0710 - accuracy: 0.5696 - val_loss: 1.0680 - val_accuracy: 0.5370\n",
      "Epoch 5/10\n",
      "467/467 [==============================] - 1s 1ms/step - loss: 1.0941 - accuracy: 0.5653 - val_loss: 1.0616 - val_accuracy: 0.5370\n",
      "Epoch 6/10\n",
      "467/467 [==============================] - 1s 1ms/step - loss: 1.0531 - accuracy: 0.5675 - val_loss: 1.0557 - val_accuracy: 0.5370\n",
      "Epoch 7/10\n",
      "467/467 [==============================] - 1s 1ms/step - loss: 1.0444 - accuracy: 0.5632 - val_loss: 1.0504 - val_accuracy: 0.5370\n",
      "Epoch 8/10\n",
      "467/467 [==============================] - 1s 1ms/step - loss: 1.0334 - accuracy: 0.5696 - val_loss: 1.0455 - val_accuracy: 0.5370\n",
      "Epoch 9/10\n",
      "273/467 [================>.............] - ETA: 0s - loss: 1.0422 - accuracy: 0.5128"
     ]
    },
    {
     "ename": "KeyboardInterrupt",
     "evalue": "",
     "output_type": "error",
     "traceback": [
      "\u001b[0;31m---------------------------------------------------------------------------\u001b[0m",
      "\u001b[0;31mKeyboardInterrupt\u001b[0m                         Traceback (most recent call last)",
      "Cell \u001b[0;32mIn[32], line 58\u001b[0m\n\u001b[1;32m     53\u001b[0m model\u001b[38;5;241m.\u001b[39mcompile(optimizer\u001b[38;5;241m=\u001b[39moptimizers\u001b[38;5;241m.\u001b[39mAdam(learning_rate\u001b[38;5;241m=\u001b[39m\u001b[38;5;241m0.0001\u001b[39m), \n\u001b[1;32m     54\u001b[0m     loss\u001b[38;5;241m=\u001b[39m\u001b[38;5;124m'\u001b[39m\u001b[38;5;124mCategoricalCrossentropy\u001b[39m\u001b[38;5;124m'\u001b[39m, \n\u001b[1;32m     55\u001b[0m     metrics\u001b[38;5;241m=\u001b[39m[\u001b[38;5;124m'\u001b[39m\u001b[38;5;124maccuracy\u001b[39m\u001b[38;5;124m'\u001b[39m])\n\u001b[1;32m     57\u001b[0m \u001b[38;5;66;03m# Train the model\u001b[39;00m\n\u001b[0;32m---> 58\u001b[0m history\u001b[38;5;241m=\u001b[39m \u001b[43mmodel\u001b[49m\u001b[38;5;241;43m.\u001b[39;49m\u001b[43mfit\u001b[49m\u001b[43m(\u001b[49m\u001b[43mX_train\u001b[49m\u001b[43m,\u001b[49m\u001b[43m \u001b[49m\u001b[43my_train\u001b[49m\u001b[43m,\u001b[49m\u001b[43m \u001b[49m\n\u001b[1;32m     59\u001b[0m \u001b[43m    \u001b[49m\u001b[43mepochs\u001b[49m\u001b[38;5;241;43m=\u001b[39;49m\u001b[38;5;241;43m10\u001b[39;49m\u001b[43m,\u001b[49m\n\u001b[1;32m     60\u001b[0m \u001b[43m   \u001b[49m\n\u001b[1;32m     61\u001b[0m \n\u001b[1;32m     62\u001b[0m \u001b[43m    \u001b[49m\n\u001b[1;32m     63\u001b[0m \u001b[43m    \u001b[49m\u001b[43msteps_per_epoch\u001b[49m\u001b[38;5;241;43m=\u001b[39;49m\u001b[43mtrain_steps_per_epoch\u001b[49m\u001b[43m,\u001b[49m\n\u001b[1;32m     64\u001b[0m \u001b[43m    \u001b[49m\u001b[43mvalidation_data\u001b[49m\u001b[38;5;241;43m=\u001b[39;49m\u001b[43m(\u001b[49m\u001b[43mX_test\u001b[49m\u001b[43m,\u001b[49m\u001b[43m \u001b[49m\u001b[43my_test\u001b[49m\u001b[43m)\u001b[49m\u001b[43m,\u001b[49m\n\u001b[1;32m     65\u001b[0m \u001b[43m    \u001b[49m\u001b[43mvalidation_steps\u001b[49m\u001b[38;5;241;43m=\u001b[39;49m\u001b[43mval_steps_per_epoch\u001b[49m\u001b[43m \u001b[49m\u001b[43m)\u001b[49m\n\u001b[1;32m     66\u001b[0m     \u001b[38;5;66;03m#callbacks=[lr_schedule]\u001b[39;00m\n\u001b[1;32m     67\u001b[0m \u001b[38;5;66;03m# Adjust validation split as needed\u001b[39;00m\n\u001b[1;32m     68\u001b[0m \n\u001b[0;32m   (...)\u001b[0m\n\u001b[1;32m     72\u001b[0m \n\u001b[1;32m     73\u001b[0m \u001b[38;5;66;03m# Accessing the history of training\u001b[39;00m\n\u001b[1;32m     74\u001b[0m training_accuracy \u001b[38;5;241m=\u001b[39m history\u001b[38;5;241m.\u001b[39mhistory\u001b[38;5;241m.\u001b[39mget(\u001b[38;5;124m'\u001b[39m\u001b[38;5;124maccuracy\u001b[39m\u001b[38;5;124m'\u001b[39m) \\\n\u001b[1;32m     75\u001b[0m     \u001b[38;5;129;01mor\u001b[39;00m history\u001b[38;5;241m.\u001b[39mhistory\u001b[38;5;241m.\u001b[39mget(\u001b[38;5;124m'\u001b[39m\u001b[38;5;124macc\u001b[39m\u001b[38;5;124m'\u001b[39m)\n",
      "File \u001b[0;32m~/.local/lib/python3.10/site-packages/keras/src/utils/traceback_utils.py:65\u001b[0m, in \u001b[0;36mfilter_traceback.<locals>.error_handler\u001b[0;34m(*args, **kwargs)\u001b[0m\n\u001b[1;32m     63\u001b[0m filtered_tb \u001b[38;5;241m=\u001b[39m \u001b[38;5;28;01mNone\u001b[39;00m\n\u001b[1;32m     64\u001b[0m \u001b[38;5;28;01mtry\u001b[39;00m:\n\u001b[0;32m---> 65\u001b[0m     \u001b[38;5;28;01mreturn\u001b[39;00m \u001b[43mfn\u001b[49m\u001b[43m(\u001b[49m\u001b[38;5;241;43m*\u001b[39;49m\u001b[43margs\u001b[49m\u001b[43m,\u001b[49m\u001b[43m \u001b[49m\u001b[38;5;241;43m*\u001b[39;49m\u001b[38;5;241;43m*\u001b[39;49m\u001b[43mkwargs\u001b[49m\u001b[43m)\u001b[49m\n\u001b[1;32m     66\u001b[0m \u001b[38;5;28;01mexcept\u001b[39;00m \u001b[38;5;167;01mException\u001b[39;00m \u001b[38;5;28;01mas\u001b[39;00m e:\n\u001b[1;32m     67\u001b[0m     filtered_tb \u001b[38;5;241m=\u001b[39m _process_traceback_frames(e\u001b[38;5;241m.\u001b[39m__traceback__)\n",
      "File \u001b[0;32m~/.local/lib/python3.10/site-packages/keras/src/engine/training.py:1798\u001b[0m, in \u001b[0;36mModel.fit\u001b[0;34m(self, x, y, batch_size, epochs, verbose, callbacks, validation_split, validation_data, shuffle, class_weight, sample_weight, initial_epoch, steps_per_epoch, validation_steps, validation_batch_size, validation_freq, max_queue_size, workers, use_multiprocessing)\u001b[0m\n\u001b[1;32m   1796\u001b[0m callbacks\u001b[38;5;241m.\u001b[39mon_epoch_begin(epoch)\n\u001b[1;32m   1797\u001b[0m \u001b[38;5;28;01mwith\u001b[39;00m data_handler\u001b[38;5;241m.\u001b[39mcatch_stop_iteration():\n\u001b[0;32m-> 1798\u001b[0m     \u001b[38;5;28;01mfor\u001b[39;00m step \u001b[38;5;129;01min\u001b[39;00m data_handler\u001b[38;5;241m.\u001b[39msteps():\n\u001b[1;32m   1799\u001b[0m         \u001b[38;5;28;01mwith\u001b[39;00m tf\u001b[38;5;241m.\u001b[39mprofiler\u001b[38;5;241m.\u001b[39mexperimental\u001b[38;5;241m.\u001b[39mTrace(\n\u001b[1;32m   1800\u001b[0m             \u001b[38;5;124m\"\u001b[39m\u001b[38;5;124mtrain\u001b[39m\u001b[38;5;124m\"\u001b[39m,\n\u001b[1;32m   1801\u001b[0m             epoch_num\u001b[38;5;241m=\u001b[39mepoch,\n\u001b[0;32m   (...)\u001b[0m\n\u001b[1;32m   1804\u001b[0m             _r\u001b[38;5;241m=\u001b[39m\u001b[38;5;241m1\u001b[39m,\n\u001b[1;32m   1805\u001b[0m         ):\n\u001b[1;32m   1806\u001b[0m             callbacks\u001b[38;5;241m.\u001b[39mon_train_batch_begin(step)\n",
      "File \u001b[0;32m~/.local/lib/python3.10/site-packages/keras/src/engine/data_adapter.py:1411\u001b[0m, in \u001b[0;36mDataHandler.steps\u001b[0;34m(self)\u001b[0m\n\u001b[1;32m   1409\u001b[0m \u001b[38;5;28;01mif\u001b[39;00m \u001b[38;5;28mself\u001b[39m\u001b[38;5;241m.\u001b[39m_insufficient_data:  \u001b[38;5;66;03m# Set by `catch_stop_iteration`.\u001b[39;00m\n\u001b[1;32m   1410\u001b[0m     \u001b[38;5;28;01mbreak\u001b[39;00m\n\u001b[0;32m-> 1411\u001b[0m original_spe \u001b[38;5;241m=\u001b[39m \u001b[38;5;28;43mself\u001b[39;49m\u001b[38;5;241;43m.\u001b[39;49m\u001b[43m_steps_per_execution\u001b[49m\u001b[38;5;241;43m.\u001b[39;49m\u001b[43mnumpy\u001b[49m\u001b[43m(\u001b[49m\u001b[43m)\u001b[49m\u001b[38;5;241m.\u001b[39mitem()\n\u001b[1;32m   1412\u001b[0m can_run_full_execution \u001b[38;5;241m=\u001b[39m (\n\u001b[1;32m   1413\u001b[0m     original_spe \u001b[38;5;241m==\u001b[39m \u001b[38;5;241m1\u001b[39m\n\u001b[1;32m   1414\u001b[0m     \u001b[38;5;129;01mor\u001b[39;00m \u001b[38;5;28mself\u001b[39m\u001b[38;5;241m.\u001b[39m_inferred_steps \u001b[38;5;129;01mis\u001b[39;00m \u001b[38;5;28;01mNone\u001b[39;00m\n\u001b[1;32m   1415\u001b[0m     \u001b[38;5;129;01mor\u001b[39;00m \u001b[38;5;28mself\u001b[39m\u001b[38;5;241m.\u001b[39m_inferred_steps \u001b[38;5;241m-\u001b[39m \u001b[38;5;28mself\u001b[39m\u001b[38;5;241m.\u001b[39m_current_step \u001b[38;5;241m>\u001b[39m\u001b[38;5;241m=\u001b[39m original_spe\n\u001b[1;32m   1416\u001b[0m )\n\u001b[1;32m   1418\u001b[0m \u001b[38;5;28;01mif\u001b[39;00m can_run_full_execution:\n",
      "File \u001b[0;32m~/.local/lib/python3.10/site-packages/tensorflow/python/ops/resource_variable_ops.py:689\u001b[0m, in \u001b[0;36mBaseResourceVariable.numpy\u001b[0;34m(self)\u001b[0m\n\u001b[1;32m    687\u001b[0m \u001b[38;5;28;01mdef\u001b[39;00m \u001b[38;5;21mnumpy\u001b[39m(\u001b[38;5;28mself\u001b[39m):\n\u001b[1;32m    688\u001b[0m   \u001b[38;5;28;01mif\u001b[39;00m context\u001b[38;5;241m.\u001b[39mexecuting_eagerly():\n\u001b[0;32m--> 689\u001b[0m     \u001b[38;5;28;01mreturn\u001b[39;00m \u001b[38;5;28;43mself\u001b[39;49m\u001b[38;5;241;43m.\u001b[39;49m\u001b[43mread_value\u001b[49m\u001b[43m(\u001b[49m\u001b[43m)\u001b[49m\u001b[38;5;241m.\u001b[39mnumpy()\n\u001b[1;32m    690\u001b[0m   \u001b[38;5;28;01mraise\u001b[39;00m \u001b[38;5;167;01mNotImplementedError\u001b[39;00m(\n\u001b[1;32m    691\u001b[0m       \u001b[38;5;124m\"\u001b[39m\u001b[38;5;124mnumpy() is only available when eager execution is enabled.\u001b[39m\u001b[38;5;124m\"\u001b[39m)\n",
      "File \u001b[0;32m~/.local/lib/python3.10/site-packages/tensorflow/python/ops/resource_variable_ops.py:839\u001b[0m, in \u001b[0;36mBaseResourceVariable.read_value\u001b[0;34m(self)\u001b[0m\n\u001b[1;32m    830\u001b[0m \u001b[38;5;250m\u001b[39m\u001b[38;5;124;03m\"\"\"Constructs an op which reads the value of this variable.\u001b[39;00m\n\u001b[1;32m    831\u001b[0m \n\u001b[1;32m    832\u001b[0m \u001b[38;5;124;03mShould be used when there are multiple reads, or when it is desirable to\u001b[39;00m\n\u001b[0;32m   (...)\u001b[0m\n\u001b[1;32m    836\u001b[0m \u001b[38;5;124;03m  The value of the variable.\u001b[39;00m\n\u001b[1;32m    837\u001b[0m \u001b[38;5;124;03m\"\"\"\u001b[39;00m\n\u001b[1;32m    838\u001b[0m \u001b[38;5;28;01mwith\u001b[39;00m ops\u001b[38;5;241m.\u001b[39mname_scope(\u001b[38;5;124m\"\u001b[39m\u001b[38;5;124mRead\u001b[39m\u001b[38;5;124m\"\u001b[39m):\n\u001b[0;32m--> 839\u001b[0m   value \u001b[38;5;241m=\u001b[39m \u001b[38;5;28;43mself\u001b[39;49m\u001b[38;5;241;43m.\u001b[39;49m\u001b[43m_read_variable_op\u001b[49m\u001b[43m(\u001b[49m\u001b[43m)\u001b[49m\n\u001b[1;32m    840\u001b[0m \u001b[38;5;66;03m# Return an identity so it can get placed on whatever device the context\u001b[39;00m\n\u001b[1;32m    841\u001b[0m \u001b[38;5;66;03m# specifies instead of the device where the variable is.\u001b[39;00m\n\u001b[1;32m    842\u001b[0m \u001b[38;5;28;01mreturn\u001b[39;00m array_ops\u001b[38;5;241m.\u001b[39midentity(value)\n",
      "File \u001b[0;32m~/.local/lib/python3.10/site-packages/tensorflow/python/ops/resource_variable_ops.py:818\u001b[0m, in \u001b[0;36mBaseResourceVariable._read_variable_op\u001b[0;34m(self, no_copy)\u001b[0m\n\u001b[1;32m    816\u001b[0m       result \u001b[38;5;241m=\u001b[39m read_and_set_handle(no_copy)\n\u001b[1;32m    817\u001b[0m \u001b[38;5;28;01melse\u001b[39;00m:\n\u001b[0;32m--> 818\u001b[0m   result \u001b[38;5;241m=\u001b[39m \u001b[43mread_and_set_handle\u001b[49m\u001b[43m(\u001b[49m\u001b[43mno_copy\u001b[49m\u001b[43m)\u001b[49m\n\u001b[1;32m    820\u001b[0m \u001b[38;5;28;01mif\u001b[39;00m \u001b[38;5;129;01mnot\u001b[39;00m context\u001b[38;5;241m.\u001b[39mexecuting_eagerly():\n\u001b[1;32m    821\u001b[0m   \u001b[38;5;66;03m# Note that if a control flow context is active the input of the read op\u001b[39;00m\n\u001b[1;32m    822\u001b[0m   \u001b[38;5;66;03m# might not actually be the handle. This line bypasses it.\u001b[39;00m\n\u001b[1;32m    823\u001b[0m   record\u001b[38;5;241m.\u001b[39mrecord_operation(\n\u001b[1;32m    824\u001b[0m       \u001b[38;5;124m\"\u001b[39m\u001b[38;5;124mReadVariableOp\u001b[39m\u001b[38;5;124m\"\u001b[39m, [result], [\u001b[38;5;28mself\u001b[39m\u001b[38;5;241m.\u001b[39mhandle],\n\u001b[1;32m    825\u001b[0m       backward_function\u001b[38;5;241m=\u001b[39m\u001b[38;5;28;01mlambda\u001b[39;00m x: [x],\n\u001b[1;32m    826\u001b[0m       forward_function\u001b[38;5;241m=\u001b[39m\u001b[38;5;28;01mlambda\u001b[39;00m x: [x])\n",
      "File \u001b[0;32m~/.local/lib/python3.10/site-packages/tensorflow/python/ops/resource_variable_ops.py:808\u001b[0m, in \u001b[0;36mBaseResourceVariable._read_variable_op.<locals>.read_and_set_handle\u001b[0;34m(no_copy)\u001b[0m\n\u001b[1;32m    806\u001b[0m \u001b[38;5;28;01mif\u001b[39;00m no_copy \u001b[38;5;129;01mand\u001b[39;00m forward_compat\u001b[38;5;241m.\u001b[39mforward_compatible(\u001b[38;5;241m2022\u001b[39m, \u001b[38;5;241m5\u001b[39m, \u001b[38;5;241m3\u001b[39m):\n\u001b[1;32m    807\u001b[0m   gen_resource_variable_ops\u001b[38;5;241m.\u001b[39mdisable_copy_on_read(\u001b[38;5;28mself\u001b[39m\u001b[38;5;241m.\u001b[39mhandle)\n\u001b[0;32m--> 808\u001b[0m result \u001b[38;5;241m=\u001b[39m \u001b[43mgen_resource_variable_ops\u001b[49m\u001b[38;5;241;43m.\u001b[39;49m\u001b[43mread_variable_op\u001b[49m\u001b[43m(\u001b[49m\n\u001b[1;32m    809\u001b[0m \u001b[43m    \u001b[49m\u001b[38;5;28;43mself\u001b[39;49m\u001b[38;5;241;43m.\u001b[39;49m\u001b[43mhandle\u001b[49m\u001b[43m,\u001b[49m\u001b[43m \u001b[49m\u001b[38;5;28;43mself\u001b[39;49m\u001b[38;5;241;43m.\u001b[39;49m\u001b[43m_dtype\u001b[49m\u001b[43m)\u001b[49m\n\u001b[1;32m    810\u001b[0m _maybe_set_handle_data(\u001b[38;5;28mself\u001b[39m\u001b[38;5;241m.\u001b[39m_dtype, \u001b[38;5;28mself\u001b[39m\u001b[38;5;241m.\u001b[39mhandle, result)\n\u001b[1;32m    811\u001b[0m \u001b[38;5;28;01mreturn\u001b[39;00m result\n",
      "File \u001b[0;32m~/.local/lib/python3.10/site-packages/tensorflow/python/ops/gen_resource_variable_ops.py:534\u001b[0m, in \u001b[0;36mread_variable_op\u001b[0;34m(resource, dtype, name)\u001b[0m\n\u001b[1;32m    532\u001b[0m \u001b[38;5;28;01mif\u001b[39;00m tld\u001b[38;5;241m.\u001b[39mis_eager:\n\u001b[1;32m    533\u001b[0m   \u001b[38;5;28;01mtry\u001b[39;00m:\n\u001b[0;32m--> 534\u001b[0m     _result \u001b[38;5;241m=\u001b[39m \u001b[43mpywrap_tfe\u001b[49m\u001b[38;5;241;43m.\u001b[39;49m\u001b[43mTFE_Py_FastPathExecute\u001b[49m\u001b[43m(\u001b[49m\n\u001b[1;32m    535\u001b[0m \u001b[43m      \u001b[49m\u001b[43m_ctx\u001b[49m\u001b[43m,\u001b[49m\u001b[43m \u001b[49m\u001b[38;5;124;43m\"\u001b[39;49m\u001b[38;5;124;43mReadVariableOp\u001b[39;49m\u001b[38;5;124;43m\"\u001b[39;49m\u001b[43m,\u001b[49m\u001b[43m \u001b[49m\u001b[43mname\u001b[49m\u001b[43m,\u001b[49m\u001b[43m \u001b[49m\u001b[43mresource\u001b[49m\u001b[43m,\u001b[49m\u001b[43m \u001b[49m\u001b[38;5;124;43m\"\u001b[39;49m\u001b[38;5;124;43mdtype\u001b[39;49m\u001b[38;5;124;43m\"\u001b[39;49m\u001b[43m,\u001b[49m\u001b[43m \u001b[49m\u001b[43mdtype\u001b[49m\u001b[43m)\u001b[49m\n\u001b[1;32m    536\u001b[0m     \u001b[38;5;28;01mreturn\u001b[39;00m _result\n\u001b[1;32m    537\u001b[0m   \u001b[38;5;28;01mexcept\u001b[39;00m _core\u001b[38;5;241m.\u001b[39m_NotOkStatusException \u001b[38;5;28;01mas\u001b[39;00m e:\n",
      "\u001b[0;31mKeyboardInterrupt\u001b[0m: "
     ]
    }
   ],
   "source": [
    "import tensorflow as tf\n",
    "from tensorflow import optimizers\n",
    "from tensorflow.keras.models import Sequential\n",
    "from tensorflow.keras.layers import Conv1D, MaxPooling1D, \\\n",
    "Flatten, Dense\n",
    "from tensorflow.keras.layers import Dropout\n",
    "from tensorflow.keras import regularizers\n",
    "# Assuming 'X' is your input data of shape \n",
    "#(1044, 100, 6) and 'y' is your corresponding labels\n",
    "train_steps_per_epoch = len(X_train)\n",
    "val_steps_per_epoch  = len(X_test)\n",
    "# Define the CNN model\n",
    "\n",
    "from tensorflow.keras.models import Sequential\n",
    "from tensorflow.keras.layers import Conv1D, \\\n",
    "MaxPooling1D, Flatten, Dense, Dropout, LSTM\n",
    "from tensorflow.keras import regularizers\n",
    "from tensorflow.keras.layers import BatchNormalization\n",
    "from tensorflow.keras.callbacks import LearningRateScheduler\n",
    "\n",
    "tf.random.set_seed(42)\n",
    "\n",
    "\n",
    "\n",
    "\n",
    "model = Sequential([\n",
    "    Conv1D(filters=16, kernel_size=1, strides=1,\n",
    "            activation='relu', \n",
    "            input_shape=(X_train.shape[1], \n",
    "                         X_train.shape[2])),\n",
    "    Dropout(0.1),\n",
    "\n",
    "    Conv1D(filters=8, kernel_size=2, \n",
    "           strides=1, activation='relu'),\n",
    "    Conv1D(filters=4, kernel_size=3, strides=1, activation='relu'),\n",
    "    Dropout(0.1),\n",
    "    MaxPooling1D(pool_size=1,\n",
    "                  strides=1, padding='valid'),\n",
    "    #LSTM(128, activation='tanh'),\n",
    "    Flatten(),\n",
    "    Dense(3, activation='relu'),\n",
    "    Dense(3, activation='relu'),\n",
    "    Dense(3, 'relu'),\n",
    "\n",
    "    Dense(3, activation='softmax')\n",
    "])\n",
    "\n",
    "\n",
    "\n",
    "\n",
    "\n",
    "# Compile the model\n",
    "model.compile(optimizer=optimizers.Adam(learning_rate=0.0001), \n",
    "    loss='CategoricalCrossentropy', \n",
    "    metrics=['accuracy'])\n",
    "\n",
    "# Train the model\n",
    "history= model.fit(X_train, y_train, \n",
    "    epochs=10,\n",
    "   \n",
    "\n",
    "    \n",
    "    steps_per_epoch=train_steps_per_epoch,\n",
    "    validation_data=(X_test, y_test),\n",
    "    validation_steps=val_steps_per_epoch )\n",
    "    #callbacks=[lr_schedule]\n",
    "# Adjust validation split as needed\n",
    "\n",
    "\n",
    "\n",
    "\n",
    "\n",
    "# Accessing the history of training\n",
    "training_accuracy = history.history.get('accuracy') \\\n",
    "    or history.history.get('acc')\n",
    "training_loss = history.history['loss']\n",
    "validation_accuracy = history.history.get('val_accuracy')\\\n",
    "or history.history.get('val_acc')\n",
    "validation_loss = history.history.get('val_loss') \\\n",
    "or history.history.get('validation_loss')\n",
    "\n",
    "# Plotting accuracy\n",
    "plt.figure(figsize=(10, 5))\n",
    "plt.subplot(1, 2, 1)\n",
    "if training_accuracy:\n",
    "    plt.plot(training_accuracy, label='Training Accuracy')\n",
    "if validation_accuracy:\n",
    "    plt.plot(validation_accuracy, label='Validation Accuracy')\n",
    "plt.xlabel('Epochs')\n",
    "plt.ylabel('Accuracy')\n",
    "plt.title('Training and Validation Accuracy')\n",
    "plt.legend()\n",
    "\n",
    "# Plotting loss\n",
    "plt.subplot(1, 2, 2)\n",
    "plt.plot(training_loss, label='Training Loss')\n",
    "if validation_loss:\n",
    "    plt.plot(validation_loss, label='Validation Loss')\n",
    "plt.xlabel('Epochs')\n",
    "plt.ylabel('Loss')\n",
    "plt.title('Training and Validation Loss')\n",
    "plt.legend()\n",
    "\n",
    "plt.tight_layout()\n",
    "plt.show()\n"
   ]
  },
  {
   "cell_type": "code",
   "execution_count": null,
   "metadata": {},
   "outputs": [],
   "source": [
    "#model.weights"
   ]
  },
  {
   "cell_type": "code",
   "execution_count": null,
   "metadata": {},
   "outputs": [],
   "source": [
    "#model.summary()"
   ]
  },
  {
   "cell_type": "code",
   "execution_count": null,
   "metadata": {},
   "outputs": [
    {
     "name": "stdout",
     "output_type": "stream",
     "text": [
      "2/2 [==============================] - 0s 8ms/step\n"
     ]
    }
   ],
   "source": [
    "y_pred = model.predict(X_test)\n",
    "y_pred_classes = y_pred.argmax(axis=-1)\n",
    "\n",
    "y_test2 = onehot_encoder.inverse_transform(y_test)\n",
    "y_test2 = y_test2.reshape(y_test.shape[0])\n",
    "\n"
   ]
  },
  {
   "cell_type": "code",
   "execution_count": null,
   "metadata": {},
   "outputs": [
    {
     "name": "stdout",
     "output_type": "stream",
     "text": [
      "2/2 [==============================] - 0s 3ms/step\n"
     ]
    },
    {
     "data": {
      "image/png": "[encoded data removed]",
      "text/plain": [
       "<Figure size 1200x500 with 2 Axes>"
      ]
     },
     "metadata": {},
     "output_type": "display_data"
    },
    {
     "name": "stdout",
     "output_type": "stream",
     "text": [
      "    True_Label  Predicted_Label\n",
      "0            0                1\n",
      "1            0                1\n",
      "2            0                1\n",
      "3            0                1\n",
      "4            0                1\n",
      "5            0                1\n",
      "6            0                1\n",
      "7            0                1\n",
      "8            0                1\n",
      "9            0                1\n",
      "10           1                1\n",
      "11           1                1\n",
      "12           1                1\n",
      "13           1                1\n",
      "14           1                1\n",
      "15           1                1\n",
      "16           1                1\n",
      "17           1                1\n",
      "18           1                1\n",
      "19           1                1\n",
      "20           1                1\n",
      "21           1                1\n",
      "22           1                1\n",
      "23           1                1\n",
      "24           1                1\n",
      "25           1                1\n",
      "26           1                1\n",
      "27           1                1\n",
      "28           1                1\n",
      "29           1                1\n",
      "30           1                1\n",
      "31           1                1\n",
      "32           1                1\n",
      "33           1                1\n",
      "34           1                1\n",
      "35           1                1\n",
      "36           1                1\n",
      "37           1                1\n",
      "38           1                1\n",
      "39           2                1\n",
      "40           2                1\n",
      "41           2                1\n",
      "42           2                1\n",
      "43           2                1\n",
      "44           2                1\n",
      "45           2                1\n",
      "46           2                1\n",
      "47           2                1\n",
      "48           2                1\n",
      "49           2                1\n",
      "50           2                1\n",
      "51           2                1\n",
      "52           2                1\n",
      "53           2                1\n",
      "Confusion Matrix:\n",
      "[[ 0 10  0]\n",
      " [ 0 29  0]\n",
      " [ 0 15  0]]\n"
     ]
    }
   ],
   "source": [
    "import pandas as pd\n",
    "import matplotlib.pyplot as plt\n",
    "from sklearn.metrics import confusion_matrix\n",
    "\n",
    "\n",
    "# Predict labels for the test dataset\n",
    "y_pred = model.predict(X_test)\n",
    "y_pred_classes = y_pred.argmax(axis=-1)\n",
    "\n",
    "# Generate confusion matrix\n",
    "conf_matrix = confusion_matrix(y_test2, y_pred_classes)\n",
    "\n",
    "# Create DataFrame for true labels and predicted labels\n",
    "results_df = pd.DataFrame({'True_Label': y_test2, 'Predicted_Label': y_pred_classes})\n",
    "\n",
    "# Accessing the history of training\n",
    "training_accuracy = history.history.get('accuracy') or history.history.get('acc')\n",
    "training_loss = history.history['loss']\n",
    "validation_accuracy = history.history.get('val_accuracy') or history.history.get('val_acc')\n",
    "validation_loss = history.history.get('val_loss') or history.history.get('validation_loss')\n",
    "\n",
    "# Plotting accuracy and loss\n",
    "plt.figure(figsize=(12, 5))\n",
    "\n",
    "# Plotting accuracy\n",
    "plt.subplot(1, 2, 1)\n",
    "if training_accuracy:\n",
    "    plt.plot(training_accuracy, label='Training Accuracy')\n",
    "if validation_accuracy:\n",
    "    plt.plot(validation_accuracy, label='Validation Accuracy')\n",
    "plt.xlabel('Epochs')\n",
    "plt.ylabel('Accuracy')\n",
    "plt.title('Training and Validation Accuracy')\n",
    "plt.legend()\n",
    "\n",
    "# Plotting loss\n",
    "plt.subplot(1, 2, 2)\n",
    "plt.plot(training_loss, label='Training Loss')\n",
    "if validation_loss:\n",
    "    plt.plot(validation_loss, label='Validation Loss')\n",
    "plt.xlabel('Epochs')\n",
    "plt.ylabel('Loss')\n",
    "plt.title('Training and Validation Loss')\n",
    "plt.legend()\n",
    "\n",
    "plt.tight_layout()\n",
    "plt.show()\n",
    "\n",
    "# Display DataFrame containing true and predicted labels\n",
    "print(results_df)\n",
    "\n",
    "# Display confusion matrix\n",
    "print(\"Confusion Matrix:\")\n",
    "print(conf_matrix)"
   ]
  },
  {
   "cell_type": "code",
   "execution_count": null,
   "metadata": {},
   "outputs": [
    {
     "data": {
      "image/png": "[encoded data removed]",
      "text/plain": [
       "<Figure size 800x600 with 2 Axes>"
      ]
     },
     "metadata": {},
     "output_type": "display_data"
    }
   ],
   "source": [
    "import seaborn as sns\n",
    "import matplotlib.pyplot as plt\n",
    "from sklearn.metrics import confusion_matrix\n",
    "\n",
    "# Assuming 'y_test' contains \n",
    "# true labels and 'y_pred_classes' contains predicted labels\n",
    "# Generate confusion matrix\n",
    "conf_matrix = confusion_matrix(y_test2, y_pred_classes)\n",
    "\n",
    "# Define class labels\n",
    "class_labels =  ['Speaking', \n",
    "    'Reading', 'Watching'] # Adjust based on your activities\n",
    "\n",
    "# Plot confusion matrix\n",
    "plt.figure(figsize=(8, 6))\n",
    "sns.heatmap(conf_matrix, annot=True, fmt='d', cmap='Blues', \n",
    "            xticklabels=class_labels, \n",
    "            yticklabels=class_labels)\n",
    "plt.xlabel('Predicted Labels')\n",
    "plt.ylabel('True Labels')\n",
    "plt.title('Confusion Matrix')\n",
    "plt.show()\n"
   ]
  },
  {
   "cell_type": "code",
   "execution_count": null,
   "metadata": {},
   "outputs": [
    {
     "data": {
      "image/png": "[encoded data removed]",
      "text/plain": [
       "<Figure size 800x600 with 2 Axes>"
      ]
     },
     "metadata": {},
     "output_type": "display_data"
    }
   ],
   "source": [
    "\n",
    "# Calculate percentages\n",
    "conf_matrix_percent = conf_matrix.astype('float') \\\n",
    "/ conf_matrix.sum(axis=1)[:, np.newaxis]\n",
    "\n",
    "# Plot the heatmap with percentages\n",
    "plt.figure(figsize=(8, 6))\n",
    "sns.heatmap(conf_matrix_percent, annot=True, \n",
    "            cmap='Blues', fmt='.2%', \n",
    "              xticklabels=class_labels, \n",
    "              yticklabels=class_labels)\n",
    "\n",
    "# Labeling and visualization settings\n",
    "plt.xlabel('Predicted Labels')\n",
    "plt.ylabel('True Labels')\n",
    "plt.title('Confusion Matrix (%)')\n",
    "plt.show()\n"
   ]
  },
  {
   "cell_type": "markdown",
   "metadata": {},
   "source": []
  },
  {
   "cell_type": "markdown",
   "metadata": {},
   "source": [
    "the conufsion matrix told us the we don't have blanced validation data\n",
    "\n",
    "there is no overfitting \n",
    "\n",
    "from the confusion matrix we can say we have much more reading data then another label \n"
   ]
  },
  {
   "cell_type": "code",
   "execution_count": null,
   "metadata": {},
   "outputs": [],
   "source": [
    " "
   ]
  }
 ],
 "metadata": {
  "kernelspec": {
   "display_name": "Python 3",
   "language": "python",
   "name": "python3"
  },
  "language_info": {
   "codemirror_mode": {
    "name": "ipython",
    "version": 3
   },
   "file_extension": ".py",
   "mimetype": "text/x-python",
   "name": "python",
   "nbconvert_exporter": "python",
   "pygments_lexer": "ipython3",
   "version": "3.10.12"
  }
 },
 "nbformat": 4,
 "nbformat_minor": 2
}
