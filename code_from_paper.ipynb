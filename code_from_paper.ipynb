{
 "cells": [
  {
   "cell_type": "code",
   "execution_count": 18,
   "metadata": {},
   "outputs": [],
   "source": [
    "from DeepEEG.input_preparation import build_inputs\n",
    "\n",
    "\n",
    "import sys\n",
    "from keras.layers import BatchNormalization\n",
    "from keras.layers import MaxPooling1D, AveragePooling1D\n",
    "from sklearn.ensemble import RandomForestClassifier\n",
    "from pandas.core.frame import DataFrame\n",
    "sys.path.insert(0, \"/home/cirl/Amir/Human-Activity-EEG-Accelerometer\")\n",
    "import numpy as np\n",
    "import os\n",
    "from keras.models import Sequential\n",
    "from keras.layers import Dense, Activation, Dropout, Flatten, Reshape\n",
    "import time\n",
    "\n",
    "import tensorflow as tf\n",
    "import random as rn\n",
    "from keras import backend as K, optimizers\n",
    "from DeepEEG.input_preparation import build_inputs\n",
    "from keras.callbacks import EarlyStopping, CSVLogger\n",
    "from DeepEEG.evaluation import compute_accuracy, evalRes\n",
    "from keras.utils import plot_model\n",
    "from keras.layers import LSTM\n",
    "from keras.layers import Conv2D, Conv1D, SeparableConv1D\n",
    "os.environ['PYTHONHASHSEED'] = '0'\n",
    "\n",
    "np.random.seed(42)\n",
    "\n",
    "# The below is necessary for starting core Python generated random numbers\n",
    "# in a well-defined state.\n",
    "# https://pdfs.semanticscholar.org/df0b/05d8985846e694cda62d41a04e7c85090fa6.pdf\n",
    "\n",
    "rn.seed(12345)\n",
    "os.environ[\"CUDA_DEVICE_ORDER\"] = \"PCI_BUS_ID\"  # see issue #152\n",
    "os.environ[\"CUDA_VISIBLE_DEVICES\"] = \"\"\n",
    "os.environ['PYTHONHASHSEED'] = '0'\n",
    "np.random.seed(3)\n",
    "rn.seed(12345)\n",
    "\n",
    "classes = 3\n",
    "\n",
    "\n"
   ]
  },
  {
   "cell_type": "code",
   "execution_count": 19,
   "metadata": {},
   "outputs": [],
   "source": [
    "X_train, y_train, X_test, y_test, train_labels, test_labels = build_inputs(False, 330)\n"
   ]
  },
  {
   "cell_type": "code",
   "execution_count": 20,
   "metadata": {},
   "outputs": [
    {
     "data": {
      "text/plain": [
       "array([[[0.1417911 , 0.77868844],\n",
       "        [0.29104478, 0.65573775],\n",
       "        [0.22388067, 0.83606564],\n",
       "        ...,\n",
       "        [0.5746267 , 0.45081972],\n",
       "        [0.67910431, 0.28688536],\n",
       "        [0.72388067, 0.29508197]],\n",
       "\n",
       "       [[0.32089541, 0.67213128],\n",
       "        [0.3880598 , 0.59836056],\n",
       "        [0.40298498, 0.59016394],\n",
       "        ...,\n",
       "        [0.73880584, 0.61475408],\n",
       "        [0.73880584, 0.59836056],\n",
       "        [0.32089541, 0.22131156]],\n",
       "\n",
       "       [[0.19402976, 0.37704931],\n",
       "        [0.19402976, 0.40983606],\n",
       "        [0.19402976, 0.40983606],\n",
       "        ...,\n",
       "        [0.50746259, 0.78688536],\n",
       "        [0.37313435, 0.78688536],\n",
       "        [0.35074631, 0.69672142]],\n",
       "\n",
       "       ...,\n",
       "\n",
       "       [[0.66666667, 0.7368418 ],\n",
       "        [0.78431437, 0.55263184],\n",
       "        [0.37254923, 0.92105273],\n",
       "        ...,\n",
       "        [0.78431437, 0.52631543],\n",
       "        [0.96078483, 0.57894727],\n",
       "        [0.56862801, 0.60526269]],\n",
       "\n",
       "       [[0.52941211, 0.42105273],\n",
       "        [0.58823559, 0.44736816],\n",
       "        [0.56862801, 0.3684209 ],\n",
       "        ...,\n",
       "        [0.56862801, 0.60526269],\n",
       "        [0.50980452, 0.3684209 ],\n",
       "        [0.60784318, 0.44736816]],\n",
       "\n",
       "       [[0.58823559, 0.47368457],\n",
       "        [0.56862801, 0.6315791 ],\n",
       "        [0.62745149, 0.55263184],\n",
       "        ...,\n",
       "        [0.90196134, 0.15789453],\n",
       "        [0.82352954, 0.15789453],\n",
       "        [0.47058862, 0.55263184]]])"
      ]
     },
     "execution_count": 20,
     "metadata": {},
     "output_type": "execute_result"
    }
   ],
   "source": [
    "X_train"
   ]
  },
  {
   "cell_type": "code",
   "execution_count": 21,
   "metadata": {},
   "outputs": [],
   "source": [
    "epochs = 50  # 21\n"
   ]
  },
  {
   "cell_type": "code",
   "execution_count": 22,
   "metadata": {},
   "outputs": [],
   "source": [
    "def build_model(X_train, row, cell):\n",
    "    model = Sequential()\n",
    "    model.add(Conv1D(32, 4, strides=1, data_format='channels_last',\n",
    "             input_shape=(330, 2)))\n",
    "    model.add(Activation(\"relu\"))\n",
    "    model.add(BatchNormalization())\n",
    "    model.add(Conv1D(64, 8, strides=4, data_format='channels_last'))\n",
    "    model.add(Activation(\"relu\"))\n",
    "    model.add(BatchNormalization())\n",
    "    model.add(MaxPooling1D(pool_size=16, strides = 2, padding='valid'))\n",
    "    model.add(Dense(512))\n",
    "    model.add(Activation(\"tanh\"))\n",
    "    model.add(LSTM(128, activation='tanh', recurrent_activation='hard_sigmoid', \\\n",
    "                    use_bias=True, kernel_initializer='glorot_uniform', \\\n",
    "                    recurrent_initializer='orthogonal', \\\n",
    "                    unit_forget_bias=True, kernel_regularizer=None, \\\n",
    "                    recurrent_regularizer=None, \\\n",
    "                    bias_regularizer=None, activity_regularizer=None, \\\n",
    "                    kernel_constraint=None, recurrent_constraint=None, \\\n",
    "                    bias_constraint=None, dropout=0.0, recurrent_dropout=0.0, \\\n",
    "                    implementation=1, return_sequences=True, return_state=False, \\\n",
    "                    go_backwards=False, stateful=False, unroll=False))\n",
    "    model.add(Dropout(0.4))\n",
    "    model.add(LSTM(128, activation='tanh', recurrent_activation='hard_sigmoid', \\\n",
    "                    use_bias=True, kernel_initializer='glorot_uniform', \\\n",
    "                    recurrent_initializer='orthogonal', \\\n",
    "                    unit_forget_bias=True, kernel_regularizer=None, \\\n",
    "                    recurrent_regularizer=None, \\\n",
    "                    bias_regularizer=None, activity_regularizer=None, \\\n",
    "                    kernel_constraint=None, recurrent_constraint=None, \\\n",
    "                    bias_constraint=None, dropout=0.0, recurrent_dropout=0.0, \\\n",
    "                    implementation=1, return_sequences=False, return_state=False, \\\n",
    "                    go_backwards=False, stateful=False, unroll=False))\n",
    "    model.add(Dropout(0.4))\n",
    "    model.add(Dense(3, activation=\"softmax\"))\n",
    "    opt = optimizers.adam(lr=0.001)\n",
    "    model.compile(loss=\"categorical_crossentropy\", optimizer=opt, metrics=['accuracy'])\n",
    "    plot_model(model, to_file='model.png', show_shapes=True)\n",
    "    model.summary()\n",
    "    return model"
   ]
  },
  {
   "cell_type": "code",
   "execution_count": 23,
   "metadata": {},
   "outputs": [
    {
     "name": "stderr",
     "output_type": "stream",
     "text": [
      "2024-01-10 07:53:35.591638: E external/local_xla/xla/stream_executor/cuda/cuda_driver.cc:274] failed call to cuInit: CUDA_ERROR_NO_DEVICE: no CUDA-capable device is detected\n",
      "2024-01-10 07:53:35.591678: I external/local_xla/xla/stream_executor/cuda/cuda_diagnostics.cc:129] retrieving CUDA diagnostic information for host: LD-IdeaPad-Gaming-3-15IHU6\n",
      "2024-01-10 07:53:35.591681: I external/local_xla/xla/stream_executor/cuda/cuda_diagnostics.cc:136] hostname: LD-IdeaPad-Gaming-3-15IHU6\n",
      "2024-01-10 07:53:35.591912: I external/local_xla/xla/stream_executor/cuda/cuda_diagnostics.cc:159] libcuda reported version is: 525.147.5\n",
      "2024-01-10 07:53:35.591926: I external/local_xla/xla/stream_executor/cuda/cuda_diagnostics.cc:163] kernel reported version is: 525.147.5\n",
      "2024-01-10 07:53:35.591928: I external/local_xla/xla/stream_executor/cuda/cuda_diagnostics.cc:241] kernel version seems to match DSO: 525.147.5\n"
     ]
    },
    {
     "ename": "AttributeError",
     "evalue": "module 'keras.optimizers' has no attribute 'adam'",
     "output_type": "error",
     "traceback": [
      "\u001b[0;31m---------------------------------------------------------------------------\u001b[0m",
      "\u001b[0;31mAttributeError\u001b[0m                            Traceback (most recent call last)",
      "Cell \u001b[0;32mIn[23], line 1\u001b[0m\n\u001b[0;32m----> 1\u001b[0m model \u001b[38;5;241m=\u001b[39m \u001b[43mbuild_model\u001b[49m\u001b[43m(\u001b[49m\u001b[43mX_train\u001b[49m\u001b[43m,\u001b[49m\u001b[43m \u001b[49m\u001b[38;5;241;43m0\u001b[39;49m\u001b[43m,\u001b[49m\u001b[43m \u001b[49m\u001b[38;5;241;43m0\u001b[39;49m\u001b[43m)\u001b[49m\n",
      "Cell \u001b[0;32mIn[22], line 36\u001b[0m, in \u001b[0;36mbuild_model\u001b[0;34m(X_train, row, cell)\u001b[0m\n\u001b[1;32m     34\u001b[0m model\u001b[38;5;241m.\u001b[39madd(Dropout(\u001b[38;5;241m0.4\u001b[39m))\n\u001b[1;32m     35\u001b[0m model\u001b[38;5;241m.\u001b[39madd(Dense(\u001b[38;5;241m3\u001b[39m, activation\u001b[38;5;241m=\u001b[39m\u001b[38;5;124m\"\u001b[39m\u001b[38;5;124msoftmax\u001b[39m\u001b[38;5;124m\"\u001b[39m))\n\u001b[0;32m---> 36\u001b[0m opt \u001b[38;5;241m=\u001b[39m \u001b[43moptimizers\u001b[49m\u001b[38;5;241;43m.\u001b[39;49m\u001b[43madam\u001b[49m(lr\u001b[38;5;241m=\u001b[39m\u001b[38;5;241m0.001\u001b[39m)\n\u001b[1;32m     37\u001b[0m model\u001b[38;5;241m.\u001b[39mcompile(loss\u001b[38;5;241m=\u001b[39m\u001b[38;5;124m\"\u001b[39m\u001b[38;5;124mcategorical_crossentropy\u001b[39m\u001b[38;5;124m\"\u001b[39m, optimizer\u001b[38;5;241m=\u001b[39mopt, metrics\u001b[38;5;241m=\u001b[39m[\u001b[38;5;124m'\u001b[39m\u001b[38;5;124maccuracy\u001b[39m\u001b[38;5;124m'\u001b[39m])\n\u001b[1;32m     38\u001b[0m plot_model(model, to_file\u001b[38;5;241m=\u001b[39m\u001b[38;5;124m'\u001b[39m\u001b[38;5;124mmodel.png\u001b[39m\u001b[38;5;124m'\u001b[39m, show_shapes\u001b[38;5;241m=\u001b[39m\u001b[38;5;28;01mTrue\u001b[39;00m)\n",
      "\u001b[0;31mAttributeError\u001b[0m: module 'keras.optimizers' has no attribute 'adam'"
     ]
    }
   ],
   "source": [
    "model = build_model(X_train, 0, 0)\n"
   ]
  }
 ],
 "metadata": {
  "kernelspec": {
   "display_name": "Python 3",
   "language": "python",
   "name": "python3"
  },
  "language_info": {
   "codemirror_mode": {
    "name": "ipython",
    "version": 3
   },
   "file_extension": ".py",
   "mimetype": "text/x-python",
   "name": "python",
   "nbconvert_exporter": "python",
   "pygments_lexer": "ipython3",
   "version": "3.10.12"
  }
 },
 "nbformat": 4,
 "nbformat_minor": 2
}
